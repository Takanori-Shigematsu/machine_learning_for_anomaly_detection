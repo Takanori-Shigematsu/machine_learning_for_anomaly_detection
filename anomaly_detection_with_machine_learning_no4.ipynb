{
 "cells": [
  {
   "cell_type": "markdown",
   "metadata": {},
   "source": [
    "### 混合正規分布モデルの理論\n"
   ]
  },
  {
   "cell_type": "markdown",
   "metadata": {},
   "source": [
    "前回学んだ、k平均法の1つの問題は、クラスタリングの結果をどの程度信じて良いのか...よくわからない点です。  \n",
    "  \n",
    "例えば$x^{(n)}$が第$l$クラスタに属するという結果が出たとしても、それがほぼ確実なのか、それとも実が別のクラスターに帰属させても大差ないのか  \n",
    "についての情報がありません。この点により豊かな情報を与えるために、k平均法を統計的機械学習の観点から定式化してみます。  \n",
    "  \n",
    "クラスターの数を$K$として、$k$番目のクラスターが、平均${\\mu_{k}}$, 共分散行列$\\sum_{k}$の正規分布$N(x|\\mu_{k}, \\sum_{k})$で表せるものとします。これは「クラスター番号$k$が決まれば、確定する$x$の分布」ですから、条件付き確率の記号を使うと$p(x|z=k)$ということになります。  \n",
    "  \n",
    "ここでの$z$はクラスターの帰属先を示す**確率変数**で、値としては$1$から$K$までの番号のどれかです。  \n",
    "これを、zに応じて決まる確率値そのものをパラメータとして$p(z)=\\pi_{z}$とします。言い換えれば、データからランダムに1つの標本を取り出したときに、それが$k$番目のクラスタに属する確率が$\\pi_{k}$となります。ここですべての$\\pi_{k}$を足し合わせれば、つまり$\\pi_{1}+\\pi_{2}+...+\\pi_{K}$は$1$となります。  \n",
    "  \n",
    "$$\n",
    "\\pi_{1}+\\pi_{2}+...+\\pi_{K} = 1\n",
    "$$"
   ]
  },
  {
   "cell_type": "markdown",
   "metadata": {},
   "source": [
    "改めてまとめると、出発点として想定する確率モデルは次の通りです。  \n",
    "  \n",
    "$$\n",
    "p(x|z) = N(x|\\mu_{z}, \\Sigma_{z}), p(z)=\\pi_{z}\n",
    "$$\n",
    "  \n",
    "条件付きの確率の定義から、zを周辺化により消去して、$x$のみの分布を作るとつぎのようになります。\n",
    "  \n",
    "$$\n",
    "p(x|\\Theta)=\\sum_{k=1}^{K}\\pi_{k}N(x|\\mu_{k}, \\Sigma_{k})\n",
    "$$\n",
    "  \n",
    "ただし、$K$個のクラスターをもつパラメータをまとめて$\\Theta$(シータ)\n",
    "  \n",
    "$$\n",
    "\\Theta = {\\pi_{1}, \\pi_{2}, ... ,\\pi_{K}, \\mu_{1}, \\mu_{2}, ... , \\mu_{K}, \\Sigma_{1}, \\Sigma_{2}, ... , \\Sigma_{K}}\n",
    "$$\n",
    "と表しました。これは混合正規分布の式、  \n",
    "正常標本データと異常標本データが混ざり合ったデータと仮定したとき、山を表現するのに正規分布を利用するとすると、  \n",
    "  \n",
    "$$\n",
    "p(x) = \\pi_{0}N(x|\\mu_{0}, \\sigma_{0}^{2}) + \\pi_{1}N(x|\\mu_{1}, \\sigma_{1}^{2})\n",
    "$$\n",
    "\n",
    "を、M次元・K次元クラスターに拡張したモデルに他なりません。  \n",
    "  \n",
    "いま、M次元の標本N個からなるデータ$D={x^{(1)}, x^{(2)}, ... , x^{(N)}}$が与えられたとして、K個のクラスターに標本を分ける方法を考えます。  \n",
    "これは各標本について、もっとも当てはまりの良いクラスターを選ぶ問題ですが、確率的に表現するとすれば、  \n",
    "  \n",
    "**「ある標本$x^{n}$が与えられたときに、最大の確率を与える$z$を選ぶ」**  \n",
    "  \n",
    "という問題となります。すなわちクラスタリングの問題とは、最大値を求める問題となります。この$z$についての確率分布は、ベイズの理論から  \n",
    "  \n",
    "$$\n",
    "p(z|x, \\Theta) = \\frac{p(x|z)p(z)}{\\sum_{z^{'}=1}^{K}p(x|z^{'})p(z^{'})} = \\frac{N(x|\\mu_{z}, \\sigma_{z})\\pi_{z}}{\\sum_{z^{'}=1}^{K}N(x|\\mu_{z^{'}}, \\sigma_{z^{'}})\\pi_{z^{'}}}\n",
    "$$\n",
    "  \n",
    "のように安易に求めることができます。この式の分母は$z$に依存しないので、混合正規分布によるクラスタリングの手順は下記のようになります。  \n",
    "  \n",
    "**手順(混合正規分布モデルによるクラスタリング)**  \n",
    "1. データ$D$から混合正規分布のパラメータ$\\Theta$を求める  \n",
    "2. 各標本$x^{(n)} (n=1,2,...,N)$に対して、以下を行う。  \n",
    "    a. $z=1, ... , K$について、$\\pi_{z}N(x^{n}|\\mu_{z}, \\Sigma_{z})$を計算する。  \n",
    "    b. その中で最大値を与える$z$を$x^{(n)}$の所属クラスターとする。\n",
    "\n",
    "  \n",
    "手順をよく見ると、与える標本が$D$に含まれている必要は必ずしもないのがわかります。  \n",
    "つまりこれが意味することは、任意の観測点$x^{'}$が来たとしたら、上と同様に、$K$個の中から最も当てはまりの良いクラスターを選ぶことができるということです。  \n",
    "これは機械学習の分野では、**クラスタリング**問題と呼ばれます。このような確率モデルを考えることによって、得られる情報の幅が一気に拡がります。  \n",
    "これが統計学的機械学習の威力です。  \n",
    "  \n",
    "ここまでで、クラスタリング問題が、混合正規分布のパラメータ$\\Theta$をデータから推定する問題に帰着できることがわかりました。  \n",
    "単一の正規分布のときと同様、これは最尤推定で行うのが基本的な戦術となります。  \n",
    "ただし、混合正規分布の対数尤度は、単一の正規分のときとは異なり、$K$個の項があるために若干複雑な形となります。式は以下のようになります。  \n",
    "  \n",
    "$$\n",
    "L(\\Theta|D)=In\\prod_{i=1}^{N}p(x^{(n)}|\\Theta)=\\sum_{n=1}^{N}In\\sum_{k=1}^{K}\\pi_{K}N(x^{(n)}|\\mu_{k}, \\sigma_{k})\n",
    "$$\n",
    "  \n",
    "理屈上では、この対数尤度を最大化するパラメータの値を求めれば良いのですが、対数$(In)$の中に総和$(\\sum)$が入っているために、  \n",
    "各パラメータによる微分をゼロと置いても、**簡単な式にならない**ので、解析的に最適解を求めることができません。  \n",
    "  \n",
    "この困難さは、「標本が$K$個のクラスターのどれから出てきたか、わからない」という点に由来します。  \n",
    "そこで出身クラスターを表す確率変数$z$の値が、各標本$x^{(n)}$に対して、基地であるかのようにみなして、  \n",
    "次の量を最大化するパラメータを求める問題に読み替えます。  \n",
    "  \n",
    "$$\n",
    "L(\\Theta|D, Z) = \\sum_{n=1}^{N}\\sum_{k=1}^{K}\\delta(z^{(n)}, k)In \\left \\{ \\pi_{k}N(x^{(n)} | \\mu_{k}, \\Sigma_{k}) \\right \\}\n",
    "$$\n",
    "  \n",
    "ただし、$z^{(n)}$は、標本の出身クラスターを表す確率変数です。また、左辺の$Z$は、$\\{z^{(1)}, ... , z^{(N)}\\}$をまとめて表したものです。  \n",
    "$L(\\Theta|D,Z)$, $L(\\Theta|D)$は同じものではありませんが、この読み替えがある意味で最善の近似となっていることが大前提となっています。(詳細は別途アップデートします)  \n",
    "  \n",
    "$L(\\Theta|D,Z)$を最大化してパラメータ$\\Theta$を求めるためには、$z^{(n)}$に関係する部分で既知でなければなりません。  \n",
    "しかしこれは観測されない仮想的な値ですので、**期待値-最大化法**を使います。  \n",
    "すなわち、上式の$\\delta(z^{(n)}, k)$の部分を「ある種の期待値」として推定しておき、その値($q_{k}^{(n)}$とおきます)を既知の数値として、$L(\\Theta|D, Z)$を最大化することで、パラメータ$\\Theta$を求めることをします。  \n",
    "  \n",
    "直感的には、$q_{k}^{n}$は「標本$x^{n}$が第$k$クラスター出身である度合い」を意味するので  \n",
    "  \n",
    "$$\n",
    "q_{k}^{(n)} \\propto \\pi_{k}N(x^{(n)}|\\mu_{k}, \\Sigma_{k})\n",
    "$$\n",
    "\n",
    "となります。つまり、この式が意味することは、現時点で手元にある$\\{ \\pi_{k}, \\mu_{k}, \\Sigma_{k}(k=1,2, ... , K) \\}$を用いて$q_{k}^{(n)}$を計算して、計算された$q_{k}^{(n)}$を用いて$\\{ \\pi_{k}, \\mu_{k}, \\Sigma_{k} \\}$を再計算して、、... という手順を繰り返します。  \n",
    "  \n",
    "これを使うことで、混合正規分布モデルのパラメータを多次元の観測値のデータから推定できる手順が、1次元のときの手順の自然な拡張として、次のように求められます。  "
   ]
  },
  {
   "cell_type": "markdown",
   "metadata": {},
   "source": [
    "**手順(混合正規分布の期待値-最大化法)**  \n",
    "1) 初期化: 混合正規分布のパラメータ  \n",
    "$$\n",
    "\\hat \\Theta = \\{ \\hat \\pi_{1}, ... , \\hat \\pi_{K}, \\hat \\mu_{1}, ... , \\hat \\mu_{K}, \\hat \\Sigma_{1}, ... , \\hat \\Sigma_{K} \\}\n",
    "$$\n",
    "    に適当な初期値を与える  \n",
    "2) 反復: 収束するまで、以下を繰り返す\n",
    "    a) 期待値ステップ: 現在のパラメータ推定値$\\hat \\Theta$を用いて、  \n",
    "    各標本の各要素(クラスター)への帰属度$q_{k}^{(n)}$を次式で求める。  \n",
    "    $$\n",
    "    q_{k}{(n)} = \\frac{\\hat \\pi_{k}N(x^{(n)}|\\hat \\mu_{k}, \\hat \\sigma_{k})}{\\sum_{k=1}^{K}\\hat \\pi_{l}N(x^{(n)}|\\hat \\mu_{l}, \\hat \\sigma_{l})}\n",
    "    $$\n",
    "    b) 最大化ステップ: 現在の帰属度$q_{k}^{(n)}$をもとにして、  \n",
    "    パラメータ${\\pi_{k}, \\mu_{k}}(k=1,2,...,K)$のついての推定値を次式で決める  \n",
    "    $$\n",
    "    \\hat \\pi_{k} = \\frac{1}{N}\\sum_{n=1}^{N}q_{k}^{(n)}, \\hat \\mu_{k} = \\frac{\\sum_{n=1}^{N}q_{k}^{(n)}x^{(n)}}{\\sum_{n=1}^{N}q_{k}^{(n)}}\n",
    "    $$\n",
    "    さらに、パラメータ$\\{ \\sigma_{k} \\}(k=1,2,...,K)$の推定値を次式で求める。  \n",
    "    $$\n",
    "    \\hat \\Sigma_{k} = \\frac{1}{\\sum_{n=1}^{N}q_{k}^{(n)}}\\sum_{n=1}^{N}q_{k}^{(n)}(x^{(n)}-\\hat \\mu_{k})(x^{(n)}-\\hat \\mu_{k})^{T}\n",
    "    $$\n",
    "    これらを新しいパラメータ推定値$\\hat \\Theta$とする。\n",
    "\n",
    "以上で、直感的にこれら導出をしていますが、理論的には、イエンセンの不等式を用いて正確な導出をする必要があります。(詳細は割愛)"
   ]
  },
  {
   "cell_type": "markdown",
   "metadata": {},
   "source": [
    "### 混合正規分布を試す\n",
    "上記の理論に基づいて、実際にはScikit Learnライブラリの中に実装されています。ので、自らコーディングする必要はありません。"
   ]
  },
  {
   "cell_type": "code",
   "execution_count": 10,
   "metadata": {},
   "outputs": [],
   "source": [
    "import numpy as np\n",
    "import pandas as pd\n",
    "from matplotlib import pyplot as plt\n",
    "from sklearn.mixture import GaussianMixture"
   ]
  },
  {
   "cell_type": "code",
   "execution_count": 11,
   "metadata": {},
   "outputs": [],
   "source": [
    "# 観測データを取得\n",
    "df = pd.read_csv(\"./DATA/Davis.csv\")\n",
    "weight = df[\"weight\"]\n",
    "height = df[\"height\"]"
   ]
  },
  {
   "cell_type": "markdown",
   "metadata": {},
   "source": [
    "Davisデータの中で、12番目のデータ{height: 57, Wight:166}という異様なデータがあることは既に確認しています。  \n",
    "ので、このデータだけは除去します。  "
   ]
  },
  {
   "cell_type": "code",
   "execution_count": 12,
   "metadata": {},
   "outputs": [],
   "source": [
    "X = pd.concat([weight, height], axis=1) # 標本数 * 次元数(2)のデータ行列\n",
    "X_train = X.drop(11)  # 11番目のデータを除去\n",
    "X = np.array(X)\n",
    "X_train = np.array(X_train)"
   ]
  },
  {
   "cell_type": "code",
   "execution_count": 13,
   "metadata": {},
   "outputs": [],
   "source": [
    "# 混合正規分布(ガウス混合分布)モデルによるクラスタリング\n",
    "clf = GaussianMixture(n_components=2) # 混合成分の数\n",
    "clf.fit(X_train)\n",
    "X_pred = clf.predict(X_train)"
   ]
  },
  {
   "cell_type": "code",
   "execution_count": 14,
   "metadata": {},
   "outputs": [
    {
     "data": {
      "image/png": "[encoded data removed]",
      "text/plain": [
       "<Figure size 432x288 with 1 Axes>"
      ]
     },
     "metadata": {
      "needs_background": "light"
     },
     "output_type": "display_data"
    }
   ],
   "source": [
    "# クラスタリングの結果をプロット\n",
    "cluster0 = X_train[X_pred == 0]\n",
    "cluster1 = X_train[X_pred == 1]\n",
    "plt.scatter(cluster0[:,0], cluster0[:,1], color=\"red\")\n",
    "plt.scatter(cluster1[:,0], cluster1[:,1], color=\"blue\")\n",
    "plt.show()"
   ]
  },
  {
   "cell_type": "markdown",
   "metadata": {},
   "source": [
    "混合正規分布モデルではなく$k$平均法を使って異常検知をするとしたら、最初に$x^{'}$が属する「山」を1つ選び、  \n",
    "それを表す**単一の正規分布**についてマハラノビス距離に基づき、異常検知を行うという手順になります。  \n",
    "  \n",
    "クラスター同士の重なりが少なく、クラスター数が事前にわかっていればおそらくそれでも構いません。  \n",
    "しかしながら、一般にはクラスター同士が重なっていない保証はなく、クラスター数も事前にはわかりません。。。  \n",
    "  \n",
    "**混合正規分布モデルを使えば、クラスター同士の重なりを表現することができ、  \n",
    "さらに、ベイズ情報量基準などによって、最適なクラスター数の目安をつけられるという実用上の大きな利点があります。**"
   ]
  },
  {
   "cell_type": "code",
   "execution_count": 15,
   "metadata": {},
   "outputs": [],
   "source": [
    "# 混合比を取り出す\n",
    "pi = clf.weights_"
   ]
  },
  {
   "cell_type": "code",
   "execution_count": 16,
   "metadata": {},
   "outputs": [
    {
     "data": {
      "text/plain": [
       "array([0.38347843, 0.61652157])"
      ]
     },
     "execution_count": 16,
     "metadata": {},
     "output_type": "execute_result"
    }
   ],
   "source": [
    "pi"
   ]
  },
  {
   "cell_type": "code",
   "execution_count": 17,
   "metadata": {},
   "outputs": [],
   "source": [
    "# 異常度を計算\n",
    "anomaly_scores = -clf.score_samples(X)"
   ]
  },
  {
   "cell_type": "code",
   "execution_count": 18,
   "metadata": {
    "scrolled": true
   },
   "outputs": [
    {
     "data": {
      "text/plain": [
       "array([  7.25105974,   6.37191715,   6.13684427,   6.711525  ,\n",
       "         7.84874018,   7.80947538,   8.5799518 ,   8.70271375,\n",
       "         6.86835904,   6.17102645,   6.67127995, 334.04793836,\n",
       "         6.30582617,   6.18957414,   6.16708658,   6.67700623,\n",
       "         8.10355275,   5.94060996,  12.2797777 ,   6.6790682 ,\n",
       "        14.55605236,   5.91524256,   6.43816629,   6.29559353,\n",
       "         6.98737125,   6.9217547 ,   6.00201599,   5.79166219,\n",
       "         9.67632837,   9.05196439,   8.17222888,   6.96701269,\n",
       "         7.47929164,   6.21082312,   6.80833019,   6.63075714,\n",
       "         5.8528438 ,   6.5781908 ,   7.59828713,   9.74674361,\n",
       "         5.95806796,   7.09052235,   6.8886965 ,   7.3574649 ,\n",
       "         7.29408363,   6.24209508,   7.07743639,   6.62571   ,\n",
       "         7.90455132,  10.27739167,   7.23567644,   5.83352249,\n",
       "         7.83701337,   9.16178218,   6.83534186,   6.5887839 ,\n",
       "         6.33511954,   7.53538049,   7.35714419,   6.82542257,\n",
       "         7.72863997,   6.79780676,   7.09947512,   7.41526067,\n",
       "         8.76076563,   6.47203688,   6.65073311,   6.88485226,\n",
       "         6.56677969,   7.09052235,   6.5742463 ,   6.29559353,\n",
       "         5.89304197,   5.91713893,   6.9217547 ,   8.27391567,\n",
       "         6.47346676,   7.88114719,   7.57787675,   7.82501484,\n",
       "         6.08598264,   6.14895462,   6.74462494,   5.82928548,\n",
       "         6.32255051,   9.25481329,   7.32107578,   6.12371922,\n",
       "         5.94810203,   6.07847232,   6.71440777,   6.16582835,\n",
       "         7.44546131,   7.15712866,   8.30568611,   5.83352249,\n",
       "         9.33938624,   7.65169445,   6.4036086 ,   7.70605364,\n",
       "         5.88778401,   7.18053731,   7.32139638,   8.03979882,\n",
       "         6.5742463 ,   6.06574596,   8.42713525,   5.83692354,\n",
       "         6.45696925,   5.81592644,   7.3482991 ,   7.06050517,\n",
       "         7.61023753,   7.05893187,   8.5799518 ,   5.94060996,\n",
       "         7.43623317,   8.26787366,   7.94358733,   6.97728342,\n",
       "         7.03527996,   7.43755555,   6.84838284,   5.89304197,\n",
       "         7.05893187,   7.01368077,   7.83807317,   7.54380168,\n",
       "         6.57157966,   7.80565798,   6.10154653,   7.62600222,\n",
       "         6.35256413,  10.05739577,   7.27788852,   6.07193706,\n",
       "         6.12278656,   6.00103184,   8.15565473,   8.8580776 ,\n",
       "         6.4471237 ,   6.16708658,   6.12371922,   8.58394772,\n",
       "         6.08262497,   6.27856545,   5.89304197,   7.84874018,\n",
       "         6.71440777,   7.570951  ,   5.90963914,   7.1889142 ,\n",
       "         8.80774515,   6.00029845,   7.01636869,   6.51031956,\n",
       "         6.64558194,   5.97247087,   5.93005775,   5.83692354,\n",
       "         6.32335845,   6.10891871,   6.07193706,   6.27810766,\n",
       "         5.91713893,   7.10591143,   5.99336036,   6.91939991,\n",
       "         9.02735713,   6.58136182,   8.0388454 ,   5.96713402,\n",
       "         5.91524256,   7.29962031,   5.94060996,   6.86835904,\n",
       "         6.57308016,   6.33511954,   7.12584766,   6.48828542,\n",
       "         7.19050414,   8.25123084,   7.17732987,   6.43159897,\n",
       "         6.71440777,   6.02073739,   6.18090556,   5.93005775,\n",
       "         7.41142316,   6.65121295,   7.66280055,   8.52346529,\n",
       "         5.97804629,   6.98852296,   6.42426146,   6.97062133,\n",
       "         7.18030472,   7.34081863,   7.62806364,   7.08902134])"
      ]
     },
     "execution_count": 18,
     "metadata": {},
     "output_type": "execute_result"
    }
   ],
   "source": [
    "anomaly_scores"
   ]
  },
  {
   "cell_type": "code",
   "execution_count": 19,
   "metadata": {},
   "outputs": [
    {
     "data": {
      "image/png": "[encoded data removed]",
      "text/plain": [
       "<Figure size 432x288 with 1 Axes>"
      ]
     },
     "metadata": {
      "needs_background": "light"
     },
     "output_type": "display_data"
    }
   ],
   "source": [
    "# プロット\n",
    "plt.title(\"Anomaly score\")\n",
    "plt.xlabel(\"Sample number\")\n",
    "plt.ylabel(\"Anomaly score\")\n",
    "plt.plot(range(len(anomaly_scores)), anomaly_scores, \"bo\")\n",
    "plt.show()"
   ]
  },
  {
   "cell_type": "markdown",
   "metadata": {},
   "source": [
    "12番目のデータを入れて、再度このモデルを利用すると、明らかに異常なデータであったことがわかります。  \n",
    "  \n",
    "**混合正規分布の注意点**  \n",
    "混合正規分布を異常検知に用いるときの課題を指摘しておきます。  \n",
    "各クラスターの平均と共分散行列の式からわかる通り、もしあるクラスタに属する標本の数が1つしかない場合、共分散行列がゼロ行列となり、  \n",
    "その後の反復計算が不可能となってしまう点です。したがって、**混合正規分布を使って正常モデルを学習させる場合には、仲間から外れた異常標本が  \n",
    "１つも含まれないように事前に慎重にデータクレンジングを行う**必要があります。"
   ]
  },
  {
   "cell_type": "markdown",
   "metadata": {},
   "source": [
    "### サポートベクタマシン"
   ]
  },
  {
   "cell_type": "markdown",
   "metadata": {},
   "source": [
    "**結論から先にいうと。。。**  \n",
    "サポートベクタマシンによる異常検知は、そのサポートベクタマシン自身の柔軟な表現能力によって諸刃の剣となります。  \n",
    "特に高次元データではどのような識別曲線が出るかが直感的に予想しがたいため、どのようなカーネルを選んで良いかを決めるには、一般的に  \n",
    "簡単ではありません。また訓練データに対して異常標本とするものの割合をどう決めれば良いかも必ずしも明確ではありません。  \n",
    "  \n",
    "実用上では、正常状態について、少ない標本を使ってコンパクトな表現を得られるというメリットを活かして、  \n",
    "サポートベクタ(支持ベクトル)に対応する標本を記録しつつ、その具体的な内容を調べながら異常判定モデルを吟味すると良いです。  \n",
    "つまり、事例の詳細についての知識がないときは、サポートベクタマシンを安直に利用するのではなく、  \n",
    "より解釈可能性が高いモデルを使う方が安全です。"
   ]
  },
  {
   "cell_type": "markdown",
   "metadata": {},
   "source": [
    "これまでの近傍距離に基づく手法は、着目点の周りの局所的なデータの散らばりに着目して異常を定義するものでした。  \n",
    "ここではある意味、発想を単一正規分布で考えたような世界に戻して、データ$D={x^{(1)}, ... , x^{(N)}}$が与えられたときに、  \n",
    "データの全体を囲む「球」を考えます。ここからは[資料](https://www.slideshare.net/KazuhiroSato8/casual-learning-machine-learning-withexcelno4)でみていきます。"
   ]
  },
  {
   "cell_type": "code",
   "execution_count": 1,
   "metadata": {},
   "outputs": [],
   "source": [
    "# -*- coding: utf-8 -*-\n",
    "\n",
    "import numpy as np\n",
    "from matplotlib import pyplot as plt\n",
    "from sklearn import preprocessing\n",
    "from sklearn import svm\n",
    "from scipy import stats"
   ]
  },
  {
   "cell_type": "code",
   "execution_count": 2,
   "metadata": {},
   "outputs": [],
   "source": [
    "# サンプルデータを作成\n",
    "X1 = np.random.normal(0.0, 1.0, (60,2)) # 平均0.0、分散1.0の正規分布に乱数を60*2行列で作成\n",
    "X2 = np.random.normal(3.0, 1.0, (60,2)) # 平均3.0、分散1.0の正規分布に乱数を60*2行列で作成\n",
    "X = np.vstack([X1, X2]) # X1とX2を連結"
   ]
  },
  {
   "cell_type": "code",
   "execution_count": 3,
   "metadata": {},
   "outputs": [],
   "source": [
    "# 標準化（平均0、分散1となるように変換）\n",
    "X_train = preprocessing.scale(X)"
   ]
  },
  {
   "cell_type": "code",
   "execution_count": 4,
   "metadata": {},
   "outputs": [],
   "source": [
    "# SVM\n",
    "clf = svm.OneClassSVM(nu=0.5, kernel=\"rbf\", gamma=0.5)\n",
    "clf.fit(X_train)\n",
    "y_pred_train = clf.predict(X_train)"
   ]
  },
  {
   "cell_type": "code",
   "execution_count": 5,
   "metadata": {},
   "outputs": [],
   "source": [
    "# 閾値を設定\n",
    "th = stats.scoreatpercentile(y_pred_train, 100 * 0.05) # パーセンタイルで異常判定の閾値設定"
   ]
  },
  {
   "cell_type": "code",
   "execution_count": 6,
   "metadata": {},
   "outputs": [],
   "source": [
    "# ２次元作図用格子状データの生成\n",
    "xx, yy = np.meshgrid(np.linspace(-4, 4, 500), np.linspace(-4, 4, 500))\n",
    "Z = clf.decision_function(np.c_[xx.ravel(), yy.ravel()]) # 格子状に超平面との距離を出力\n",
    "Z = Z.reshape(xx.shape)"
   ]
  },
  {
   "cell_type": "code",
   "execution_count": 7,
   "metadata": {},
   "outputs": [
    {
     "data": {
      "image/png": "[encoded data removed]",
      "text/plain": [
       "<Figure size 432x288 with 1 Axes>"
      ]
     },
     "metadata": {
      "needs_background": "light"
     },
     "output_type": "display_data"
    }
   ],
   "source": [
    "# プロット\n",
    "plt.contourf(xx, yy, Z, levels=np.linspace(Z.min(), th, 7), cmap=plt.cm.Blues_r)\n",
    "plt.contour(xx, yy, Z, levels=[th], linewidths=2, colors='green')\n",
    "plt.scatter(X_train[y_pred_train==1][:,0], X_train[y_pred_train==1][:,1], color=\"red\")\n",
    "plt.scatter(X_train[y_pred_train==-1][:,0], X_train[y_pred_train==-1][:,1], color=\"blue\")\n",
    "plt.show()"
   ]
  }
 ],
 "metadata": {
  "kernelspec": {
   "display_name": "Python 3",
   "language": "python",
   "name": "python3"
  },
  "language_info": {
   "codemirror_mode": {
    "name": "ipython",
    "version": 3
   },
   "file_extension": ".py",
   "mimetype": "text/x-python",
   "name": "python",
   "nbconvert_exporter": "python",
   "pygments_lexer": "ipython3",
   "version": "3.6.5"
  }
 },
 "nbformat": 4,
 "nbformat_minor": 4
}
